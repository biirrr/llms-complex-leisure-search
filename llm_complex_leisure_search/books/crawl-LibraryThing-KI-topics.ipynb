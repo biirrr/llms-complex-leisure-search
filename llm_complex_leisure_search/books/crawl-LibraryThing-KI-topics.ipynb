{
 "cells": [
  {
   "cell_type": "markdown",
   "id": "9dc07b39-b7ee-4435-92b0-8423a4a3566e",
   "metadata": {},
   "source": [
    "# Checking Previous Crawl Data\n",
    "\n",
    "Checking if I still have the XML versions of the threads of Known-Item request posts."
   ]
  },
  {
   "cell_type": "code",
   "execution_count": 2,
   "id": "bc9c8b11-36fd-4400-889f-dfb8f443bd60",
   "metadata": {},
   "outputs": [
    {
     "data": {
      "text/plain": [
       "108915"
      ]
     },
     "execution_count": 2,
     "metadata": {},
     "output_type": "execute_result"
    }
   ],
   "source": [
    "import glob\n",
    "import os\n",
    "\n",
    "# XML threads are here\n",
    "thread_dir = '/Volumes/Samsung_T5/Data/Projects/SBS/LibraryThing/threads/english-xml-threads/'\n",
    "xml_files = glob.glob(os.path.join(thread_dir, '**/*.xml'))\n",
    "\n",
    "# how many?\n",
    "len(xml_files)"
   ]
  },
  {
   "cell_type": "code",
   "execution_count": 16,
   "id": "12545c96-ce03-4dc5-8527-d96791e07c39",
   "metadata": {},
   "outputs": [],
   "source": [
    "xml_files[:10]\n",
    "xf = xml_files[0]\n",
    "file_map = {os.path.split(xf)[1].replace('.xml', ''): xf for xf in xml_files}"
   ]
  },
  {
   "cell_type": "code",
   "execution_count": 30,
   "id": "24ad87a0-d83f-43e3-9193-99365ea4c3c6",
   "metadata": {},
   "outputs": [],
   "source": [
    "import pandas as pd\n",
    "\n",
    "# use the label file to extract the LibraryThing thread IDs\n",
    "label_file = '/Users/marijnkoolen/writing/Humanities-Cluster/Papers/2022/JDoc-2022/Labels-all_domains-no_double.csv'\n",
    "df = pd.read_csv(label_file, sep='\\t')\n",
    "\n",
    "all_post_ids = df[(df.Domain == 'Books')].Post_id.unique()\n",
    "ki_post_ids = df[(df.Domain == 'Books') & (df['Known-item'] == 1)].Post_id.unique()\n",
    "len(post_ids)\n",
    "\n",
    "file_map = {os.path.split(xf)[1].replace('.xml', ''): xf for xf in xml_files}\n",
    "post_files = {post_id: file_map[post_id] for post_id in post_id if post_id in file_map}\n",
    "for post_id in post_ids:\n",
    "    if post_id not in file_map:\n",
    "        print(post_id)"
   ]
  },
  {
   "cell_type": "markdown",
   "id": "199bd4e8-b419-465d-bb41-4bd7e3673abf",
   "metadata": {},
   "source": [
    "First, copy threads of all annotated posts to the data dir:"
   ]
  },
  {
   "cell_type": "code",
   "execution_count": 31,
   "id": "c7ea0ec1-565e-4038-93d6-ae6f6b2259cb",
   "metadata": {},
   "outputs": [],
   "source": [
    "xml_dir = '../../data/books/All_posts_thread_xml/'\n",
    "\n",
    "if os.path.exists(xml_dir) is False:\n",
    "    os.mkdir(xml_dir)\n",
    "\n",
    "for post_id in post_ids:\n",
    "    if post_id not in file_map:\n",
    "        continue\n",
    "    \n",
    "    !cp {file_map[post_id]} $xml_dir"
   ]
  },
  {
   "cell_type": "markdown",
   "id": "2167e527-e5a6-4ff9-9d99-d6a9ec00901e",
   "metadata": {},
   "source": [
    "Second, copy threads of all KI posts to a separate sub-dir:"
   ]
  },
  {
   "cell_type": "code",
   "execution_count": null,
   "id": "b20b2ebf-3bbb-4099-9358-11dac45e6d04",
   "metadata": {},
   "outputs": [],
   "source": [
    "thread_dir = '../../data/books/All_posts_thread_xml/'\n",
    "xml_files = glob.glob(os.path.join(thread_dir, '*.xml'))\n",
    "len(xml_files)\n",
    "xml_dir = '../../data/books/KI_thread_xml'\n",
    "\n",
    "if os.path.exists(xml_dir) is False:\n",
    "    os.mkdir(xml_dir)\n",
    "\n",
    "for post_id in post_ids:\n",
    "    if post_id not in file_map:\n",
    "        continue\n",
    "    \n",
    "    !cp {file_map[post_id]} $xml_dir"
   ]
  },
  {
   "cell_type": "markdown",
   "id": "3bfa3c78-c179-4c18-ae1b-98eb3c7894f7",
   "metadata": {},
   "source": [
    "# Crawling Solved Known Item Topics"
   ]
  },
  {
   "cell_type": "code",
   "execution_count": 1,
   "id": "e1d07f41-9215-40ad-876d-8df38584ff41",
   "metadata": {},
   "outputs": [],
   "source": [
    "import requests\n",
    "\n",
    "base_url = 'https://www.librarything.com/ngroups/724/Name-that-Book'\n",
    "\n",
    "# response = requests.get(base_url)\n",
    "# response.status_code"
   ]
  },
  {
   "cell_type": "markdown",
   "id": "ccb0dfd2-5dbe-4ed1-a812-2eacb34c567d",
   "metadata": {},
   "source": [
    "## Reading Downloaded Pages"
   ]
  },
  {
   "cell_type": "code",
   "execution_count": 2,
   "id": "d6e87c46-8c1e-4ee3-9fea-61b6fa187b29",
   "metadata": {},
   "outputs": [
    {
     "data": {
      "text/plain": [
       "160"
      ]
     },
     "execution_count": 2,
     "metadata": {},
     "output_type": "execute_result"
    }
   ],
   "source": [
    "import glob\n",
    "import os\n",
    "\n",
    "\n",
    "download_dir = '../data/LT_Name_that_Book_topic_lists//'\n",
    "\n",
    "topic_list_files = glob.glob(os.path.join(download_dir, '*.html'))\n",
    "topic_list_files = sorted(topic_list_files, key=lambda tf: int(tf.split('-')[-1][:-5]))\n",
    "len(topic_list_files)"
   ]
  },
  {
   "cell_type": "code",
   "execution_count": null,
   "id": "ad051b0c-2fd6-48b5-b747-5a3f494f1c06",
   "metadata": {},
   "outputs": [],
   "source": []
  },
  {
   "cell_type": "code",
   "execution_count": 3,
   "id": "a3908c23-262a-488c-8bfb-94cae2fc31ed",
   "metadata": {},
   "outputs": [
    {
     "name": "stdout",
     "output_type": "stream",
     "text": [
      "2024-07-08 15:07:00\n",
      "2024-07-10 15:07:00\n",
      "2024-01-10 00:00:00\n"
     ]
    }
   ],
   "source": [
    "from parse import parse_time_string\n",
    "\n",
    "rel_date = \"Monday 8:40pm\"\n",
    "topic_file = '../data/LT_Name_that_Book_topic_lists/Name that Book _ LibraryThing-1.html'\n",
    "\n",
    "print(parse_time_string(rel_date, topic_file))\n",
    "\n",
    "rel_date = \"Yesterday 8:40pm\"\n",
    "print(parse_time_string(rel_date, topic_file))\n",
    "\n",
    "rel_date = \"January 10\"\n",
    "print(parse_time_string(rel_date, topic_file))"
   ]
  },
  {
   "cell_type": "code",
   "execution_count": 4,
   "id": "5ac50a5e-3922-4ff0-b8a4-cdea21a3938a",
   "metadata": {},
   "outputs": [],
   "source": [
    "from parse import parse_topic_page"
   ]
  },
  {
   "cell_type": "code",
   "execution_count": 5,
   "id": "3ac746e3-bafe-475f-9106-3450b830bcef",
   "metadata": {},
   "outputs": [
    {
     "data": {
      "text/plain": [
       "((15996, 7), (2098, 7))"
      ]
     },
     "execution_count": 5,
     "metadata": {},
     "output_type": "execute_result"
    }
   ],
   "source": [
    "import pandas as pd\n",
    "\n",
    "\n",
    "threads = []\n",
    "for tl_file in topic_list_files:\n",
    "    #print(tl_file)\n",
    "    tl_threads = parse_topic_page(tl_file)\n",
    "    threads.extend(tl_threads)\n",
    "\n",
    "df = pd.DataFrame(threads)\n",
    "df.shape, df[df.found == True].shape"
   ]
  },
  {
   "cell_type": "code",
   "execution_count": 6,
   "id": "1087b396-8709-47df-a4ae-80bb22e6af4a",
   "metadata": {},
   "outputs": [
    {
     "data": {
      "text/html": [
       "<div>\n",
       "<style scoped>\n",
       "    .dataframe tbody tr th:only-of-type {\n",
       "        vertical-align: middle;\n",
       "    }\n",
       "\n",
       "    .dataframe tbody tr th {\n",
       "        vertical-align: top;\n",
       "    }\n",
       "\n",
       "    .dataframe thead th {\n",
       "        text-align: right;\n",
       "    }\n",
       "</style>\n",
       "<table border=\"1\" class=\"dataframe\">\n",
       "  <thead>\n",
       "    <tr style=\"text-align: right;\">\n",
       "      <th></th>\n",
       "      <th>topic_number</th>\n",
       "      <th>topic_title</th>\n",
       "      <th>user</th>\n",
       "      <th>last_post_timestamp</th>\n",
       "      <th>crawl_timestamp</th>\n",
       "      <th>num_posts</th>\n",
       "      <th>found</th>\n",
       "    </tr>\n",
       "  </thead>\n",
       "  <tbody>\n",
       "    <tr>\n",
       "      <th>0</th>\n",
       "      <td>361924</td>\n",
       "      <td>Modern Fantasy where a Vegas HS guy takes a ch...</td>\n",
       "      <td>MissSquish</td>\n",
       "      <td>2024-07-11 07:51:40</td>\n",
       "      <td>2024-07-11T14:32:02.063697</td>\n",
       "      <td>2</td>\n",
       "      <td>False</td>\n",
       "    </tr>\n",
       "    <tr>\n",
       "      <th>1</th>\n",
       "      <td>361923</td>\n",
       "      <td>American Revolution Romance??</td>\n",
       "      <td>Christi295</td>\n",
       "      <td>2024-07-10 07:51:40</td>\n",
       "      <td>2024-07-11T14:32:02.063818</td>\n",
       "      <td>1</td>\n",
       "      <td>False</td>\n",
       "    </tr>\n",
       "    <tr>\n",
       "      <th>2</th>\n",
       "      <td>361922</td>\n",
       "      <td>Series of Young adult fiction set in Pacific N...</td>\n",
       "      <td>tantivy</td>\n",
       "      <td>2024-07-10 07:51:40</td>\n",
       "      <td>2024-07-11T14:32:02.063920</td>\n",
       "      <td>1</td>\n",
       "      <td>False</td>\n",
       "    </tr>\n",
       "    <tr>\n",
       "      <th>3</th>\n",
       "      <td>361910</td>\n",
       "      <td>Found: JA/YA Thriller Series with FMC</td>\n",
       "      <td>mobrxwn</td>\n",
       "      <td>2024-07-10 07:51:40</td>\n",
       "      <td>2024-07-11T14:32:02.064011</td>\n",
       "      <td>3</td>\n",
       "      <td>True</td>\n",
       "    </tr>\n",
       "    <tr>\n",
       "      <th>4</th>\n",
       "      <td>361921</td>\n",
       "      <td>Novel where a child meets 3 different versions...</td>\n",
       "      <td>Pacmane</td>\n",
       "      <td>2024-07-10 07:51:40</td>\n",
       "      <td>2024-07-11T14:32:02.064102</td>\n",
       "      <td>1</td>\n",
       "      <td>False</td>\n",
       "    </tr>\n",
       "    <tr>\n",
       "      <th>...</th>\n",
       "      <td>...</td>\n",
       "      <td>...</td>\n",
       "      <td>...</td>\n",
       "      <td>...</td>\n",
       "      <td>...</td>\n",
       "      <td>...</td>\n",
       "      <td>...</td>\n",
       "    </tr>\n",
       "    <tr>\n",
       "      <th>15991</th>\n",
       "      <td>304370</td>\n",
       "      <td>i need to find this book</td>\n",
       "      <td>cyzag</td>\n",
       "      <td>2019-03-11 00:00:00</td>\n",
       "      <td>2024-07-11T14:32:06.085223</td>\n",
       "      <td>2</td>\n",
       "      <td>False</td>\n",
       "    </tr>\n",
       "    <tr>\n",
       "      <th>15992</th>\n",
       "      <td>304384</td>\n",
       "      <td>Can't find this Drama Romance novel</td>\n",
       "      <td>anny.ana</td>\n",
       "      <td>2019-03-11 00:00:00</td>\n",
       "      <td>2024-07-11T14:32:06.085257</td>\n",
       "      <td>1</td>\n",
       "      <td>False</td>\n",
       "    </tr>\n",
       "    <tr>\n",
       "      <th>15993</th>\n",
       "      <td>304226</td>\n",
       "      <td>Title for the Romance Novel Plz</td>\n",
       "      <td>Marie79</td>\n",
       "      <td>2019-03-11 00:00:00</td>\n",
       "      <td>2024-07-11T14:32:06.085290</td>\n",
       "      <td>5</td>\n",
       "      <td>False</td>\n",
       "    </tr>\n",
       "    <tr>\n",
       "      <th>15994</th>\n",
       "      <td>304371</td>\n",
       "      <td>YA Fantasy: Boy that speaks symbols</td>\n",
       "      <td>BlackDragon0813</td>\n",
       "      <td>2019-02-11 00:00:00</td>\n",
       "      <td>2024-07-11T14:32:06.085326</td>\n",
       "      <td>1</td>\n",
       "      <td>False</td>\n",
       "    </tr>\n",
       "    <tr>\n",
       "      <th>15995</th>\n",
       "      <td>304351</td>\n",
       "      <td>YA, SciFi, Like Enders Game mixed with Midnig...</td>\n",
       "      <td>MissSquish</td>\n",
       "      <td>2019-02-11 00:00:00</td>\n",
       "      <td>2024-07-11T14:32:06.085361</td>\n",
       "      <td>2</td>\n",
       "      <td>False</td>\n",
       "    </tr>\n",
       "  </tbody>\n",
       "</table>\n",
       "<p>15996 rows × 7 columns</p>\n",
       "</div>"
      ],
      "text/plain": [
       "      topic_number                                        topic_title  \\\n",
       "0           361924  Modern Fantasy where a Vegas HS guy takes a ch...   \n",
       "1           361923                      American Revolution Romance??   \n",
       "2           361922  Series of Young adult fiction set in Pacific N...   \n",
       "3           361910              Found: JA/YA Thriller Series with FMC   \n",
       "4           361921  Novel where a child meets 3 different versions...   \n",
       "...            ...                                                ...   \n",
       "15991       304370                           i need to find this book   \n",
       "15992       304384                Can't find this Drama Romance novel   \n",
       "15993       304226                    Title for the Romance Novel Plz   \n",
       "15994       304371                YA Fantasy: Boy that speaks symbols   \n",
       "15995       304351   YA, SciFi, Like Enders Game mixed with Midnig...   \n",
       "\n",
       "                  user last_post_timestamp             crawl_timestamp  \\\n",
       "0           MissSquish 2024-07-11 07:51:40  2024-07-11T14:32:02.063697   \n",
       "1           Christi295 2024-07-10 07:51:40  2024-07-11T14:32:02.063818   \n",
       "2              tantivy 2024-07-10 07:51:40  2024-07-11T14:32:02.063920   \n",
       "3              mobrxwn 2024-07-10 07:51:40  2024-07-11T14:32:02.064011   \n",
       "4              Pacmane 2024-07-10 07:51:40  2024-07-11T14:32:02.064102   \n",
       "...                ...                 ...                         ...   \n",
       "15991            cyzag 2019-03-11 00:00:00  2024-07-11T14:32:06.085223   \n",
       "15992         anny.ana 2019-03-11 00:00:00  2024-07-11T14:32:06.085257   \n",
       "15993          Marie79 2019-03-11 00:00:00  2024-07-11T14:32:06.085290   \n",
       "15994  BlackDragon0813 2019-02-11 00:00:00  2024-07-11T14:32:06.085326   \n",
       "15995       MissSquish 2019-02-11 00:00:00  2024-07-11T14:32:06.085361   \n",
       "\n",
       "       num_posts  found  \n",
       "0              2  False  \n",
       "1              1  False  \n",
       "2              1  False  \n",
       "3              3   True  \n",
       "4              1  False  \n",
       "...          ...    ...  \n",
       "15991          2  False  \n",
       "15992          1  False  \n",
       "15993          5  False  \n",
       "15994          1  False  \n",
       "15995          2  False  \n",
       "\n",
       "[15996 rows x 7 columns]"
      ]
     },
     "execution_count": 6,
     "metadata": {},
     "output_type": "execute_result"
    }
   ],
   "source": [
    "df"
   ]
  },
  {
   "cell_type": "code",
   "execution_count": 7,
   "id": "da61e15c-e99b-4234-b274-e7926b52b66a",
   "metadata": {},
   "outputs": [],
   "source": [
    "df['topic_url'] = df.topic_number.apply(lambda x: f\"https://librarything.com/topic/{x}\")"
   ]
  },
  {
   "cell_type": "code",
   "execution_count": 8,
   "id": "f090911a-2cca-4426-93b2-7708eda16846",
   "metadata": {},
   "outputs": [
    {
     "data": {
      "text/plain": [
       "(2098, 8)"
      ]
     },
     "execution_count": 8,
     "metadata": {},
     "output_type": "execute_result"
    }
   ],
   "source": [
    "df[df.found == True].shape"
   ]
  },
  {
   "cell_type": "code",
   "execution_count": 10,
   "id": "8502f4a9-5bd7-41d9-bae4-8d9430734709",
   "metadata": {},
   "outputs": [
    {
     "data": {
      "text/html": [
       "<div>\n",
       "<style scoped>\n",
       "    .dataframe tbody tr th:only-of-type {\n",
       "        vertical-align: middle;\n",
       "    }\n",
       "\n",
       "    .dataframe tbody tr th {\n",
       "        vertical-align: top;\n",
       "    }\n",
       "\n",
       "    .dataframe thead th {\n",
       "        text-align: right;\n",
       "    }\n",
       "</style>\n",
       "<table border=\"1\" class=\"dataframe\">\n",
       "  <thead>\n",
       "    <tr style=\"text-align: right;\">\n",
       "      <th></th>\n",
       "      <th>topic_number</th>\n",
       "      <th>topic_title</th>\n",
       "      <th>user</th>\n",
       "      <th>last_post_timestamp</th>\n",
       "      <th>crawl_timestamp</th>\n",
       "      <th>num_posts</th>\n",
       "      <th>found</th>\n",
       "      <th>topic_url</th>\n",
       "    </tr>\n",
       "  </thead>\n",
       "  <tbody>\n",
       "    <tr>\n",
       "      <th>0</th>\n",
       "      <td>361924</td>\n",
       "      <td>Modern Fantasy where a Vegas HS guy takes a ch...</td>\n",
       "      <td>MissSquish</td>\n",
       "      <td>2024-07-11 07:51:40</td>\n",
       "      <td>2024-07-11T14:32:02.063697</td>\n",
       "      <td>2</td>\n",
       "      <td>False</td>\n",
       "      <td>https://librarything.com/topic/361924</td>\n",
       "    </tr>\n",
       "    <tr>\n",
       "      <th>1</th>\n",
       "      <td>361923</td>\n",
       "      <td>American Revolution Romance??</td>\n",
       "      <td>Christi295</td>\n",
       "      <td>2024-07-10 07:51:40</td>\n",
       "      <td>2024-07-11T14:32:02.063818</td>\n",
       "      <td>1</td>\n",
       "      <td>False</td>\n",
       "      <td>https://librarything.com/topic/361923</td>\n",
       "    </tr>\n",
       "    <tr>\n",
       "      <th>2</th>\n",
       "      <td>361922</td>\n",
       "      <td>Series of Young adult fiction set in Pacific N...</td>\n",
       "      <td>tantivy</td>\n",
       "      <td>2024-07-10 07:51:40</td>\n",
       "      <td>2024-07-11T14:32:02.063920</td>\n",
       "      <td>1</td>\n",
       "      <td>False</td>\n",
       "      <td>https://librarything.com/topic/361922</td>\n",
       "    </tr>\n",
       "    <tr>\n",
       "      <th>3</th>\n",
       "      <td>361910</td>\n",
       "      <td>Found: JA/YA Thriller Series with FMC</td>\n",
       "      <td>mobrxwn</td>\n",
       "      <td>2024-07-10 07:51:40</td>\n",
       "      <td>2024-07-11T14:32:02.064011</td>\n",
       "      <td>3</td>\n",
       "      <td>True</td>\n",
       "      <td>https://librarything.com/topic/361910</td>\n",
       "    </tr>\n",
       "    <tr>\n",
       "      <th>4</th>\n",
       "      <td>361921</td>\n",
       "      <td>Novel where a child meets 3 different versions...</td>\n",
       "      <td>Pacmane</td>\n",
       "      <td>2024-07-10 07:51:40</td>\n",
       "      <td>2024-07-11T14:32:02.064102</td>\n",
       "      <td>1</td>\n",
       "      <td>False</td>\n",
       "      <td>https://librarything.com/topic/361921</td>\n",
       "    </tr>\n",
       "    <tr>\n",
       "      <th>...</th>\n",
       "      <td>...</td>\n",
       "      <td>...</td>\n",
       "      <td>...</td>\n",
       "      <td>...</td>\n",
       "      <td>...</td>\n",
       "      <td>...</td>\n",
       "      <td>...</td>\n",
       "      <td>...</td>\n",
       "    </tr>\n",
       "    <tr>\n",
       "      <th>15991</th>\n",
       "      <td>304370</td>\n",
       "      <td>i need to find this book</td>\n",
       "      <td>cyzag</td>\n",
       "      <td>2019-03-11</td>\n",
       "      <td>2024-07-11T14:32:06.085223</td>\n",
       "      <td>2</td>\n",
       "      <td>False</td>\n",
       "      <td>https://librarything.com/topic/304370</td>\n",
       "    </tr>\n",
       "    <tr>\n",
       "      <th>15992</th>\n",
       "      <td>304384</td>\n",
       "      <td>Can't find this Drama Romance novel</td>\n",
       "      <td>anny.ana</td>\n",
       "      <td>2019-03-11</td>\n",
       "      <td>2024-07-11T14:32:06.085257</td>\n",
       "      <td>1</td>\n",
       "      <td>False</td>\n",
       "      <td>https://librarything.com/topic/304384</td>\n",
       "    </tr>\n",
       "    <tr>\n",
       "      <th>15993</th>\n",
       "      <td>304226</td>\n",
       "      <td>Title for the Romance Novel Plz</td>\n",
       "      <td>Marie79</td>\n",
       "      <td>2019-03-11</td>\n",
       "      <td>2024-07-11T14:32:06.085290</td>\n",
       "      <td>5</td>\n",
       "      <td>False</td>\n",
       "      <td>https://librarything.com/topic/304226</td>\n",
       "    </tr>\n",
       "    <tr>\n",
       "      <th>15994</th>\n",
       "      <td>304371</td>\n",
       "      <td>YA Fantasy: Boy that speaks symbols</td>\n",
       "      <td>BlackDragon0813</td>\n",
       "      <td>2019-02-11</td>\n",
       "      <td>2024-07-11T14:32:06.085326</td>\n",
       "      <td>1</td>\n",
       "      <td>False</td>\n",
       "      <td>https://librarything.com/topic/304371</td>\n",
       "    </tr>\n",
       "    <tr>\n",
       "      <th>15995</th>\n",
       "      <td>304351</td>\n",
       "      <td>YA, SciFi, Like Enders Game mixed with Midnig...</td>\n",
       "      <td>MissSquish</td>\n",
       "      <td>2019-02-11</td>\n",
       "      <td>2024-07-11T14:32:06.085361</td>\n",
       "      <td>2</td>\n",
       "      <td>False</td>\n",
       "      <td>https://librarything.com/topic/304351</td>\n",
       "    </tr>\n",
       "  </tbody>\n",
       "</table>\n",
       "<p>15996 rows × 8 columns</p>\n",
       "</div>"
      ],
      "text/plain": [
       "       topic_number                                        topic_title  \\\n",
       "0            361924  Modern Fantasy where a Vegas HS guy takes a ch...   \n",
       "1            361923                      American Revolution Romance??   \n",
       "2            361922  Series of Young adult fiction set in Pacific N...   \n",
       "3            361910              Found: JA/YA Thriller Series with FMC   \n",
       "4            361921  Novel where a child meets 3 different versions...   \n",
       "...             ...                                                ...   \n",
       "15991        304370                           i need to find this book   \n",
       "15992        304384                Can't find this Drama Romance novel   \n",
       "15993        304226                    Title for the Romance Novel Plz   \n",
       "15994        304371                YA Fantasy: Boy that speaks symbols   \n",
       "15995        304351   YA, SciFi, Like Enders Game mixed with Midnig...   \n",
       "\n",
       "                  user  last_post_timestamp             crawl_timestamp  \\\n",
       "0           MissSquish  2024-07-11 07:51:40  2024-07-11T14:32:02.063697   \n",
       "1           Christi295  2024-07-10 07:51:40  2024-07-11T14:32:02.063818   \n",
       "2              tantivy  2024-07-10 07:51:40  2024-07-11T14:32:02.063920   \n",
       "3              mobrxwn  2024-07-10 07:51:40  2024-07-11T14:32:02.064011   \n",
       "4              Pacmane  2024-07-10 07:51:40  2024-07-11T14:32:02.064102   \n",
       "...                ...                  ...                         ...   \n",
       "15991            cyzag           2019-03-11  2024-07-11T14:32:06.085223   \n",
       "15992         anny.ana           2019-03-11  2024-07-11T14:32:06.085257   \n",
       "15993          Marie79           2019-03-11  2024-07-11T14:32:06.085290   \n",
       "15994  BlackDragon0813           2019-02-11  2024-07-11T14:32:06.085326   \n",
       "15995       MissSquish           2019-02-11  2024-07-11T14:32:06.085361   \n",
       "\n",
       "       num_posts  found                              topic_url  \n",
       "0              2  False  https://librarything.com/topic/361924  \n",
       "1              1  False  https://librarything.com/topic/361923  \n",
       "2              1  False  https://librarything.com/topic/361922  \n",
       "3              3   True  https://librarything.com/topic/361910  \n",
       "4              1  False  https://librarything.com/topic/361921  \n",
       "...          ...    ...                                    ...  \n",
       "15991          2  False  https://librarything.com/topic/304370  \n",
       "15992          1  False  https://librarything.com/topic/304384  \n",
       "15993          5  False  https://librarything.com/topic/304226  \n",
       "15994          1  False  https://librarything.com/topic/304371  \n",
       "15995          2  False  https://librarything.com/topic/304351  \n",
       "\n",
       "[15996 rows x 8 columns]"
      ]
     },
     "execution_count": 10,
     "metadata": {},
     "output_type": "execute_result"
    }
   ],
   "source": [
    "#df.to_csv('../data/thread_info-Name_that_Book.tsv', sep='\\t', index=False)\n",
    "df = pd.read_csv('../data/thread_info-Name_that_Book.tsv', sep='\\t')\n",
    "df"
   ]
  },
  {
   "cell_type": "code",
   "execution_count": 219,
   "id": "d130edce-9b39-401d-8005-a3e63209a040",
   "metadata": {},
   "outputs": [
    {
     "data": {
      "text/html": [
       "<div>\n",
       "<style scoped>\n",
       "    .dataframe tbody tr th:only-of-type {\n",
       "        vertical-align: middle;\n",
       "    }\n",
       "\n",
       "    .dataframe tbody tr th {\n",
       "        vertical-align: top;\n",
       "    }\n",
       "\n",
       "    .dataframe thead th {\n",
       "        text-align: right;\n",
       "    }\n",
       "</style>\n",
       "<table border=\"1\" class=\"dataframe\">\n",
       "  <thead>\n",
       "    <tr style=\"text-align: right;\">\n",
       "      <th></th>\n",
       "      <th>topic_number</th>\n",
       "      <th>topic_title</th>\n",
       "      <th>user</th>\n",
       "      <th>last_post_timestamp</th>\n",
       "      <th>crawl_timestamp</th>\n",
       "      <th>num_posts</th>\n",
       "      <th>found</th>\n",
       "      <th>topic_url</th>\n",
       "    </tr>\n",
       "  </thead>\n",
       "  <tbody>\n",
       "    <tr>\n",
       "      <th>2</th>\n",
       "      <td>344039</td>\n",
       "      <td>Found: YA Action Story</td>\n",
       "      <td>smavs</td>\n",
       "      <td>September 2022</td>\n",
       "      <td>2024-07-11T09:53:48.062513</td>\n",
       "      <td>3</td>\n",
       "      <td>True</td>\n",
       "      <td>https://librarything.com/topic/344039</td>\n",
       "    </tr>\n",
       "    <tr>\n",
       "      <th>3</th>\n",
       "      <td>344021</td>\n",
       "      <td>Found: Magic Academy with Portals</td>\n",
       "      <td>RosetheReader</td>\n",
       "      <td>September 2022</td>\n",
       "      <td>2024-07-11T09:53:48.062539</td>\n",
       "      <td>15</td>\n",
       "      <td>True</td>\n",
       "      <td>https://librarything.com/topic/344021</td>\n",
       "    </tr>\n",
       "    <tr>\n",
       "      <th>10</th>\n",
       "      <td>344003</td>\n",
       "      <td>Found: action/mystery</td>\n",
       "      <td>konallis</td>\n",
       "      <td>September 2022</td>\n",
       "      <td>2024-07-11T09:53:48.062715</td>\n",
       "      <td>6</td>\n",
       "      <td>True</td>\n",
       "      <td>https://librarything.com/topic/344003</td>\n",
       "    </tr>\n",
       "    <tr>\n",
       "      <th>24</th>\n",
       "      <td>343974</td>\n",
       "      <td>Found: YA fantasy/romance</td>\n",
       "      <td>Kat-Stewart</td>\n",
       "      <td>September 2022</td>\n",
       "      <td>2024-07-11T09:53:48.063059</td>\n",
       "      <td>5</td>\n",
       "      <td>True</td>\n",
       "      <td>https://librarything.com/topic/343974</td>\n",
       "    </tr>\n",
       "    <tr>\n",
       "      <th>32</th>\n",
       "      <td>343853</td>\n",
       "      <td>Found: 80s Kids book about witches</td>\n",
       "      <td>LukeAnd</td>\n",
       "      <td>August 2022</td>\n",
       "      <td>2024-07-11T09:53:48.063256</td>\n",
       "      <td>3</td>\n",
       "      <td>True</td>\n",
       "      <td>https://librarything.com/topic/343853</td>\n",
       "    </tr>\n",
       "    <tr>\n",
       "      <th>...</th>\n",
       "      <td>...</td>\n",
       "      <td>...</td>\n",
       "      <td>...</td>\n",
       "      <td>...</td>\n",
       "      <td>...</td>\n",
       "      <td>...</td>\n",
       "      <td>...</td>\n",
       "      <td>...</td>\n",
       "    </tr>\n",
       "    <tr>\n",
       "      <th>15875</th>\n",
       "      <td>132804</td>\n",
       "      <td>Found: Children’s book Princess and dragon gir...</td>\n",
       "      <td>Caramellunacy</td>\n",
       "      <td>March 2021</td>\n",
       "      <td>2024-07-11T09:53:53.655923</td>\n",
       "      <td>4</td>\n",
       "      <td>True</td>\n",
       "      <td>https://librarything.com/topic/132804</td>\n",
       "    </tr>\n",
       "    <tr>\n",
       "      <th>15879</th>\n",
       "      <td>330386</td>\n",
       "      <td>Found: Series about two boys traveling the wor...</td>\n",
       "      <td>pattisimit</td>\n",
       "      <td>March 2021</td>\n",
       "      <td>2024-07-11T09:53:53.655983</td>\n",
       "      <td>2</td>\n",
       "      <td>True</td>\n",
       "      <td>https://librarything.com/topic/330386</td>\n",
       "    </tr>\n",
       "    <tr>\n",
       "      <th>15882</th>\n",
       "      <td>330133</td>\n",
       "      <td>Found: Horror: Alien who collects brains</td>\n",
       "      <td>hello10101</td>\n",
       "      <td>March 2021</td>\n",
       "      <td>2024-07-11T09:53:53.656029</td>\n",
       "      <td>3</td>\n",
       "      <td>True</td>\n",
       "      <td>https://librarything.com/topic/330133</td>\n",
       "    </tr>\n",
       "    <tr>\n",
       "      <th>15893</th>\n",
       "      <td>330330</td>\n",
       "      <td>Found: popular author, thriller, kidnapped chi...</td>\n",
       "      <td>Caramellunacy</td>\n",
       "      <td>March 2021</td>\n",
       "      <td>2024-07-11T09:53:53.656197</td>\n",
       "      <td>4</td>\n",
       "      <td>True</td>\n",
       "      <td>https://librarything.com/topic/330330</td>\n",
       "    </tr>\n",
       "    <tr>\n",
       "      <th>15894</th>\n",
       "      <td>330285</td>\n",
       "      <td>Found: YA romance/fantasy. Duology, Crown prin...</td>\n",
       "      <td>Caramellunacy</td>\n",
       "      <td>March 2021</td>\n",
       "      <td>2024-07-11T09:53:53.656213</td>\n",
       "      <td>4</td>\n",
       "      <td>True</td>\n",
       "      <td>https://librarything.com/topic/330285</td>\n",
       "    </tr>\n",
       "  </tbody>\n",
       "</table>\n",
       "<p>2098 rows × 8 columns</p>\n",
       "</div>"
      ],
      "text/plain": [
       "       topic_number                                        topic_title  \\\n",
       "2            344039                             Found: YA Action Story   \n",
       "3            344021                  Found: Magic Academy with Portals   \n",
       "10           344003                              Found: action/mystery   \n",
       "24           343974                          Found: YA fantasy/romance   \n",
       "32           343853                 Found: 80s Kids book about witches   \n",
       "...             ...                                                ...   \n",
       "15875        132804  Found: Children’s book Princess and dragon gir...   \n",
       "15879        330386  Found: Series about two boys traveling the wor...   \n",
       "15882        330133           Found: Horror: Alien who collects brains   \n",
       "15893        330330  Found: popular author, thriller, kidnapped chi...   \n",
       "15894        330285  Found: YA romance/fantasy. Duology, Crown prin...   \n",
       "\n",
       "                user last_post_timestamp             crawl_timestamp  \\\n",
       "2              smavs      September 2022  2024-07-11T09:53:48.062513   \n",
       "3      RosetheReader      September 2022  2024-07-11T09:53:48.062539   \n",
       "10          konallis      September 2022  2024-07-11T09:53:48.062715   \n",
       "24       Kat-Stewart      September 2022  2024-07-11T09:53:48.063059   \n",
       "32           LukeAnd         August 2022  2024-07-11T09:53:48.063256   \n",
       "...              ...                 ...                         ...   \n",
       "15875  Caramellunacy          March 2021  2024-07-11T09:53:53.655923   \n",
       "15879     pattisimit          March 2021  2024-07-11T09:53:53.655983   \n",
       "15882     hello10101          March 2021  2024-07-11T09:53:53.656029   \n",
       "15893  Caramellunacy          March 2021  2024-07-11T09:53:53.656197   \n",
       "15894  Caramellunacy          March 2021  2024-07-11T09:53:53.656213   \n",
       "\n",
       "       num_posts  found                              topic_url  \n",
       "2              3   True  https://librarything.com/topic/344039  \n",
       "3             15   True  https://librarything.com/topic/344021  \n",
       "10             6   True  https://librarything.com/topic/344003  \n",
       "24             5   True  https://librarything.com/topic/343974  \n",
       "32             3   True  https://librarything.com/topic/343853  \n",
       "...          ...    ...                                    ...  \n",
       "15875          4   True  https://librarything.com/topic/132804  \n",
       "15879          2   True  https://librarything.com/topic/330386  \n",
       "15882          3   True  https://librarything.com/topic/330133  \n",
       "15893          4   True  https://librarything.com/topic/330330  \n",
       "15894          4   True  https://librarything.com/topic/330285  \n",
       "\n",
       "[2098 rows x 8 columns]"
      ]
     },
     "execution_count": 219,
     "metadata": {},
     "output_type": "execute_result"
    }
   ],
   "source": [
    "df[df.found == True]"
   ]
  },
  {
   "cell_type": "code",
   "execution_count": 165,
   "id": "ea09f94b-8e75-43e3-bf81-ec7020763ec3",
   "metadata": {},
   "outputs": [
    {
     "data": {
      "text/plain": [
       "array(['September 2022', 'August 2022', 'January 21', 'January 20',\n",
       "       'January 19', 'January 17', 'January 16', 'January 15',\n",
       "       'January 13', 'April 2022', 'March 2022', 'June 2023',\n",
       "       'January 2021', 'March 2021', 'February 2021', 'September 2021',\n",
       "       'March 2020', 'June 2022', 'August 2023', 'August 2021',\n",
       "       'November 2021', 'October 2021', 'April 2023', 'March 2023',\n",
       "       'July 2023', 'Yesterday 8:53pm', 'Yesterday 6:04pm',\n",
       "       'Yesterday 3:22pm', 'Yesterday 11:08am', 'Sunday 7:00pm',\n",
       "       'Sunday 5:41pm', 'Sunday 4:51pm', 'Saturday 2:56pm',\n",
       "       'Friday 4:58pm', 'Friday 12:12pm', 'July 2', 'July 1', 'June 29',\n",
       "       'June 25', 'June 24', 'June 23', 'August 2020', 'July 2022',\n",
       "       'May 2023', 'January 11', 'January 10', 'January 9', 'January 8',\n",
       "       'January 7', 'January 4', 'January 3', 'January 2', 'October 2022',\n",
       "       'November 2023', 'October 2023', 'April 19', 'April 17',\n",
       "       'April 16', 'April 15', 'April 14', 'April 12', 'April 11',\n",
       "       'April 9', 'April 8', 'April 7', 'April 6', 'April 5', 'April 4',\n",
       "       'April 2', 'September 2019', 'January 2022', 'September 2023',\n",
       "       'July 2021', 'December 2021', 'December 2023', 'November 2019',\n",
       "       'May 2021', 'April 2021', 'January 2023', 'December 2022',\n",
       "       'June 2021', 'November 2022', 'February 2023', 'March 31',\n",
       "       'March 29', 'March 28', 'March 27', 'March 26', 'March 25',\n",
       "       'March 22', 'March 21', 'March 20', 'March 19', 'March 18',\n",
       "       'October 2020', 'May 19', 'May 18', 'May 16', 'May 15', 'May 14',\n",
       "       'May 13', 'May 12', 'May 10', 'May 7', 'May 6', 'December 2020',\n",
       "       'February 2022', 'March 17', 'March 16', 'March 15', 'March 14',\n",
       "       'March 13', 'March 12', 'March 11', 'March 10', 'March 9',\n",
       "       'March 8', 'March 7', 'March 4', 'March 3', 'March 2', 'March 1',\n",
       "       'February 28', 'February 27', 'February 26', 'February 25',\n",
       "       'February 24', 'February 23', 'February 22', 'February 21',\n",
       "       'February 20', 'February 19', 'February 18', 'December 2019',\n",
       "       'September 2020', 'May 5', 'May 4', 'May 3', 'May 1', 'April 28',\n",
       "       'April 26', 'April 24', 'April 22', 'June 2020', 'May 2022',\n",
       "       'February 17', 'February 16', 'February 13', 'February 12',\n",
       "       'February 11', 'February 9', 'February 8', 'February 7',\n",
       "       'February 6', 'February 5', 'February 4', 'July 2019', 'June 21',\n",
       "       'June 20', 'June 19', 'June 18', 'June 17', 'June 16', 'June 15',\n",
       "       'June 13', 'June 12', 'June 10', 'June 8', 'June 7', 'June 6',\n",
       "       'June 5', 'June 4', 'June 1', 'May 31', 'May 29', 'May 28',\n",
       "       'May 27', 'May 26', 'May 25', 'May 24', 'May 23', 'May 22',\n",
       "       'May 21', 'February 3', 'February 1', 'January 31', 'January 30',\n",
       "       'January 29', 'January 27', 'January 26', 'January 25',\n",
       "       'January 24', 'January 23', 'January 22', 'May 2019'], dtype=object)"
      ]
     },
     "execution_count": 165,
     "metadata": {},
     "output_type": "execute_result"
    }
   ],
   "source": [
    "df[df.found == True].last_post_timestamp.unique()"
   ]
  },
  {
   "cell_type": "code",
   "execution_count": 225,
   "id": "08bd90c5-0e8e-4c1c-bed6-2e5ffbc29bcc",
   "metadata": {},
   "outputs": [
    {
     "data": {
      "text/plain": [
       "15268      5514\n",
       "3139      50286\n",
       "2681      50289\n",
       "11919     54420\n",
       "2064      57462\n",
       "          ...  \n",
       "2442     361846\n",
       "2435     361862\n",
       "2410     361906\n",
       "2403     361910\n",
       "2405     361916\n",
       "Name: topic_number, Length: 2098, dtype: int64"
      ]
     },
     "execution_count": 225,
     "metadata": {},
     "output_type": "execute_result"
    }
   ],
   "source": [
    "df[df.found == True].topic_number.sort_values()#.nunique()"
   ]
  },
  {
   "cell_type": "code",
   "execution_count": 13,
   "id": "cf54066f-7564-42b8-a625-d5e8995079b2",
   "metadata": {},
   "outputs": [
    {
     "data": {
      "text/plain": [
       "2096"
      ]
     },
     "execution_count": 13,
     "metadata": {},
     "output_type": "execute_result"
    }
   ],
   "source": [
    "found_urls = list(df[df.found].topic_url)\n",
    "\n",
    "thread_dir = '../data/LT_Name_that_Book_threads/'\n",
    "\n",
    "thread_files = [tf for tf in glob.glob(os.path.join(thread_dir, '*')) if 'crawl.sh' not in tf]\n",
    "len(thread_files)"
   ]
  },
  {
   "cell_type": "code",
   "execution_count": 14,
   "id": "76fa68b7-ab2c-4ef5-af5a-90b830d5b71a",
   "metadata": {},
   "outputs": [
    {
     "name": "stdout",
     "output_type": "stream",
     "text": [
      "number of downloaded threads: 2096\n"
     ]
    }
   ],
   "source": [
    "downloaded_threads = [int(os.path.split(tf)[-1]) for tf in thread_files]\n",
    "print(f\"number of downloaded threads: {len(downloaded_threads)}\")\n"
   ]
  },
  {
   "cell_type": "code",
   "execution_count": 15,
   "id": "74015bc7-b883-4682-ab1c-d2a0fc3f988d",
   "metadata": {},
   "outputs": [
    {
     "name": "stdout",
     "output_type": "stream",
     "text": [
      "number of to download threads: 0\n"
     ]
    }
   ],
   "source": [
    "\n",
    "to_download_urls = list(df[(df.topic_number.isin(downloaded_threads) == False) & (df.found == True)].topic_url)\n",
    "\n",
    "print(f\"number of to download threads: {len(to_download_urls)}\")\n",
    "\n",
    "with open('../data/to_download_urls.txt', 'wt') as fh:\n",
    "    for url in to_download_urls:\n",
    "        fh.write(f\"{url}\\n\")\n",
    "#df.topic_number"
   ]
  },
  {
   "cell_type": "code",
   "execution_count": 58,
   "id": "dccd421c-3cd2-4743-a0c4-f2d357b6b3da",
   "metadata": {},
   "outputs": [
    {
     "data": {
      "text/plain": [
       "'https://librarything.com/topic/361803'"
      ]
     },
     "execution_count": 58,
     "metadata": {},
     "output_type": "execute_result"
    }
   ],
   "source": [
    "import time\n",
    "\n",
    "found_url = found_urls[0]\n",
    "\n",
    "response = requests.get(found_url)\n"
   ]
  },
  {
   "cell_type": "markdown",
   "id": "bb9e4d78-4f2e-420d-8ac3-c624e1d36412",
   "metadata": {},
   "source": [
    "## Parse Thread Files"
   ]
  },
  {
   "cell_type": "code",
   "execution_count": 11,
   "id": "30af604e-7f1c-4eec-ba73-2611d6f1743a",
   "metadata": {},
   "outputs": [
    {
     "data": {
      "text/plain": [
       "'../data/LT_Name_that_Book_threads/361916'"
      ]
     },
     "execution_count": 11,
     "metadata": {},
     "output_type": "execute_result"
    }
   ],
   "source": [
    "thread_dir = '../data/LT_Name_that_Book_threads/'\n",
    "\n",
    "thread_files = [tf for tf in glob.glob(os.path.join(thread_dir, '*')) if 'crawl.sh' not in tf]\n",
    "thread_files = sorted(thread_files, key=lambda tf: int(os.path.split(tf)[-1].split('-')[-1]), reverse=True)\n",
    "thread_files[0]"
   ]
  },
  {
   "cell_type": "code",
   "execution_count": 14,
   "id": "a05ef26d-7c44-4b0f-bdb4-998268151f57",
   "metadata": {},
   "outputs": [
    {
     "name": "stdout",
     "output_type": "stream",
     "text": [
      "2024-07-08 15:07:00\n",
      "2024-07-10 15:07:00\n",
      "2024-01-10 00:00:00\n"
     ]
    }
   ],
   "source": [
    "from parse import parse_time_string\n",
    "\n",
    "rel_date = \"Monday 8:40pm\"\n",
    "topic_file = '../data/LT_Name_that_Book_topic_lists/Name that Book _ LibraryThing-1.html'\n",
    "\n",
    "print(parse_time_string(rel_date, topic_file))\n",
    "\n",
    "rel_date = \"Yesterday 8:40pm\"\n",
    "print(parse_time_string(rel_date, topic_file))\n",
    "\n",
    "rel_date = \"January 10\"\n",
    "print(parse_time_string(rel_date, topic_file))"
   ]
  },
  {
   "cell_type": "code",
   "execution_count": 39,
   "id": "51c8b4e8-54aa-4c09-bbc2-a2dd74090cbe",
   "metadata": {},
   "outputs": [
    {
     "name": "stdout",
     "output_type": "stream",
     "text": [
      "{'message_num': 8575306, 'post_num': 1, 'username': 'JayT83', 'edited': 0, 'timestamp': '2024-07-10T10:31:37', 'text': \"I owned this book while living in Kansas during the mid to late 1990s and believe it to be written in the 1970s-1980s based on the cover design of the novel. The cover was white with the black boy sitting in profile behind the white boy, who is on his knees facing the reader. The boys are both bound and gagged, with the white boy's arms being bound behind his back.\\n\\nThe story commences when the two boys are kidnapped when they encounter bank robbers just concluding their heist. One boy starts assigning nicknames to the various men involved based on various characteristics in the absence of actual names, such as the Professor based on his more formal and cultured linguistic patterns.\\n\\nThe boys are driven several hours out of town and have little knowledge of their location. The kidnappers are amused when the boys' parents are on the news requesting the return of their sons and then threaten to harm their families if the boys misbehave.\\n\\nAfter some time passes, the boys attempt to escape, but are caught and are placed under the eye of a large and vicious dog. They gradually befriend the dog, and then make their escape, during which the dog is killed.\\n\\nThe trip home takes quite some time, a few weeks if memory serves, during which time the boys both begin to starve. \\n\\nAt least twice, the boys encounter a member of the gang on the way home. The first time is at a carnival where both are recognized and the threats against them and their families are repeated if they talk. The second time is an encounter with the Professor at a convenience store when they are nearly home.\\n\\nAround this time the boys realize that their fears of the gang actually harming their family is merely a ploy to shut them up, and that they are not a legitimate threat, and they report them to the police.\\n\\nThe story concludes with the boys, now having been absent from their homes for months, reunited with their families and the gang arrested.\\n\\nI do not know what has become of my copy of this book, but it was lost many years ago in a move, and I would like to get my hand on another edition if at all possible.\", 'touchstones': [], 'external_resources': []}\n",
      "\n",
      "\n",
      "\n",
      "\n",
      "\n",
      "{'message_num': 8575330, 'post_num': 2, 'username': 'juels', 'edited': 1, 'timestamp': '2024-07-10T10:31:37', 'text': \"Easy Going by ? Couldn't find a touchstone for it. Could only find a touchstone for a teacher's guide to Easy Going. However, here is a link for the GoogleBook's preview: \\n\\n\\n\", 'touchstones': [{'type': 'author', 'author_url': '/author/ottowayne', 'author_name': 'Wayne Otto'}], 'external_resources': [{'type': 'external_resource', 'resource_url': 'https://www.google.com/books/edition/Easy_Going/n-Xo881oB5AC?hl=en&gbpv=1&bsq=professor', 'resource_name': 'https://www.google.com/books/edition/Easy_Going/n-Xo881oB5AC?hl=en&gbpv=1&am...'}]}\n",
      "\n",
      "\n",
      "\n",
      "\n",
      "\n",
      "{'message_num': 8575356, 'post_num': 3, 'username': 'JayT83', 'edited': 0, 'timestamp': '2024-07-10T10:31:37', 'text': 'Thank you!! The book and author were incorrect, but you pointed me in the proper direction, which enabled me to find the book title.\\n\\nThe book was Johnny/Bingo by Browning Norton. The excerpts you found were from the book I was looking for, which is how I found the title. The help is greatly appreciated. The Admins can mark this post as FOUND!!', 'touchstones': [], 'external_resources': []}\n",
      "\n",
      "\n",
      "\n",
      "\n",
      "\n",
      "{'message_num': 8575362, 'post_num': 4, 'username': 'juels', 'edited': 0, 'timestamp': '2024-07-10T10:31:37', 'text': \"You're welcome. Glad you found it.\", 'touchstones': [], 'external_resources': []}\n",
      "\n",
      "\n",
      "\n",
      "\n",
      "\n",
      "{'message_num': 8575420, 'post_num': 5, 'username': 'Caramellunacy', 'edited': 0, 'timestamp': '2024-07-10T10:31:37', 'text': 'Touchstone: \\n', 'touchstones': [{'type': 'work', 'work_url': '/work/1335448', 'work_id': '1335448', 'work_name': 'Johnny/Bingo'}], 'external_resources': []}\n",
      "\n",
      "\n",
      "\n",
      "\n",
      "\n"
     ]
    }
   ],
   "source": [
    "import dateutil.parser as parser\n",
    "\n",
    "from bs4 import BeautifulSoup\n",
    "\n",
    "\n",
    "def extract_post_num_username(post_div):\n",
    "    for a in post_div.find_all('a'):\n",
    "        if 'class' in a.attrs and 'b' in a.attrs['class']:\n",
    "            post_num = int(a.text)\n",
    "        if 'href' in a.attrs and a.attrs['href'].startswith('/profile/'):\n",
    "            username = a.text\n",
    "    return post_num, username\n",
    "\n",
    "\n",
    "def parse_post(post_div):\n",
    "    post_info = {}\n",
    "    post_info['message_num'] = int(post_div.attrs['id'].replace('fp', ''))\n",
    "    if 'id' not in post_div.attrs:\n",
    "        raise KeyError(f\"no 'id' attribute in fp div: {div.attrs}\")\n",
    "    post_info['post_num'], post_info['username'] = extract_post_num_username(post_div)\n",
    "    for sub_div in post_div.find_all('div'):\n",
    "        #print('\\nSUB_DIV:', sub_div)\n",
    "        if 'mi' in sub_div.attrs['class']:\n",
    "            time_string = sub_div.text.replace('Edited: ', '')\n",
    "            post_info['edited'] = 1 if sub_div.text.startswith('Edited: ') else 0\n",
    "            post_info['timestamp'] = parse_time_string(time_string, thread_file).isoformat()\n",
    "        if 'mT' in sub_div.attrs['class']:\n",
    "            post_info['text'] = ''\n",
    "            post_info['touchstones'] = [] \n",
    "            post_info['external_resources'] = [] \n",
    "            for child in sub_div:\n",
    "                if child.name == 'br':\n",
    "                    post_info['text'] += '\\n'\n",
    "                elif child.name == 'a' and child.attrs['href'].startswith('/author'):\n",
    "                    touchstone = {\n",
    "                        'type': 'author',\n",
    "                        'author_url': child.attrs['href'],\n",
    "                        'author_name': child.text\n",
    "                    }\n",
    "                    post_info['touchstones'].append(touchstone)\n",
    "                elif child.name == 'a' and child.attrs['href'].startswith('/work'):\n",
    "                    touchstone = {\n",
    "                        'type': 'work',\n",
    "                        'work_url': child.attrs['href'],\n",
    "                        'work_id': child.attrs['data-workid'],\n",
    "                        'work_name': child.text\n",
    "                    }\n",
    "                    post_info['touchstones'].append(touchstone)\n",
    "                elif child.name == 'a' and child.attrs['href'].startswith('http'):\n",
    "                    external_resource = {\n",
    "                        'type': 'external_resource',\n",
    "                        'resource_url': child.attrs['href'],\n",
    "                        'resource_name': child.text\n",
    "                    }\n",
    "                    post_info['external_resources'].append(external_resource)\n",
    "                elif child.name == None:\n",
    "                    post_info['text'] += child.text\n",
    "                else:\n",
    "                    print(f'CHILD: {child.name}\\t#{child.text}#')\n",
    "                    if child.name is not None:\n",
    "                        print(f\"\\t{child.attrs}\")\n",
    "        #print('\\nPOST_INFO: ', post_info)\n",
    "        \n",
    "    return post_info\n",
    "\n",
    "\n",
    "thread_file = thread_files[0]\n",
    "\n",
    "\n",
    "with open(thread_file, 'rt') as fh:\n",
    "    file_data = fh.read()\n",
    "    soup = BeautifulSoup(file_data, \"lxml\")\n",
    "\n",
    "sections = soup.find_all('section', class_=\"not_boxed\")\n",
    "if len(sections) > 1:\n",
    "    raise ValueError(\"unexpected multiple <section> elements\")\n",
    "section = sections[0]\n",
    "\n",
    "for post_div in section.find_all('div', class_='fp'):\n",
    "    #print(post_div)\n",
    "    post_info = parse_post(post_div)\n",
    "    print(post_info)\n",
    "    print('\\n\\n\\n\\n')"
   ]
  },
  {
   "cell_type": "code",
   "execution_count": null,
   "id": "a04518b2-170f-40b7-b976-b3853ceba3cf",
   "metadata": {},
   "outputs": [],
   "source": []
  },
  {
   "cell_type": "code",
   "execution_count": null,
   "id": "f0448556-6622-4a08-adab-b1a2a899534e",
   "metadata": {},
   "outputs": [],
   "source": []
  },
  {
   "cell_type": "code",
   "execution_count": null,
   "id": "79c6de25-c30c-419c-9b50-e58e39247ad0",
   "metadata": {},
   "outputs": [],
   "source": []
  },
  {
   "cell_type": "code",
   "execution_count": null,
   "id": "55dc3346-f061-4ccb-8ae4-fa5fbaf91bd7",
   "metadata": {},
   "outputs": [],
   "source": []
  },
  {
   "cell_type": "code",
   "execution_count": null,
   "id": "0f37aa82-cf07-49d1-98d2-1384f8cc504e",
   "metadata": {},
   "outputs": [],
   "source": []
  }
 ],
 "metadata": {
  "kernelspec": {
   "display_name": "Python 3 (ipykernel)",
   "language": "python",
   "name": "python3"
  },
  "language_info": {
   "codemirror_mode": {
    "name": "ipython",
    "version": 3
   },
   "file_extension": ".py",
   "mimetype": "text/x-python",
   "name": "python",
   "nbconvert_exporter": "python",
   "pygments_lexer": "ipython3",
   "version": "3.10.14"
  }
 },
 "nbformat": 4,
 "nbformat_minor": 5
}
