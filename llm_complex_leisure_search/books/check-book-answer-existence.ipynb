{
 "cells": [
  {
   "cell_type": "markdown",
   "id": "55d788e8-be3e-4903-b693-d144e38663c8",
   "metadata": {},
   "source": [
    "# Check Book Existence of LLM Output\n"
   ]
  },
  {
   "cell_type": "code",
   "execution_count": 36,
   "id": "fb4d11df-4930-485e-8065-5e69330c5e69",
   "metadata": {},
   "outputs": [
    {
     "data": {
      "text/plain": [
       "18294"
      ]
     },
     "execution_count": 36,
     "metadata": {},
     "output_type": "execute_result"
    }
   ],
   "source": [
    "import json\n",
    "\n",
    "from openlibrary_api import extract_matches, search_openlibrary\n",
    "\n",
    "answer_file = \"../../data/books/unique-answers.json\"\n",
    "\n",
    "with open(answer_file) as fh:\n",
    "    answers = json.load(fh)\n",
    "\n",
    "len(answers)"
   ]
  },
  {
   "cell_type": "code",
   "execution_count": 37,
   "id": "46c0d81a-a4e3-4409-b122-c458f24af05d",
   "metadata": {},
   "outputs": [
    {
     "name": "stdout",
     "output_type": "stream",
     "text": [
      "Frequency distribution of number of authors:\n",
      "\tnum authors: 1\tfrequency: 13612\n",
      "\tnum authors: 0\tfrequency: 4682\n"
     ]
    }
   ],
   "source": [
    "from collections import Counter\n",
    "\n",
    "\n",
    "def check_output_format(answers):\n",
    "    for answer in answers:\n",
    "        title = answer[\"answer\"][0]\n",
    "        author_list = answer[\"answer\"][1]\n",
    "        if isinstance(title, str) is False:\n",
    "            print(title)\n",
    "        for author in author_list:\n",
    "            if isinstance(author, str) is False:\n",
    "                print(author)\n",
    "\n",
    "\n",
    "check_output_format(answers)\n",
    "\n",
    "print(\"Frequency distribution of number of authors:\")\n",
    "for num_authors, freq in Counter([len(answer[\"answer\"][1]) for answer in answers]).most_common():\n",
    "    print(f\"\\tnum authors: {num_authors}\\tfrequency: {freq}\")"
   ]
  },
  {
   "cell_type": "code",
   "execution_count": 59,
   "id": "98055ff3-a0b5-4391-a364-a71c5bc9e827",
   "metadata": {},
   "outputs": [
    {
     "data": {
      "text/plain": [
       "('The Alien Visitor', 'Raymond Feist')"
      ]
     },
     "execution_count": 59,
     "metadata": {},
     "output_type": "execute_result"
    }
   ],
   "source": [
    "answer = answers[0]\n",
    "\n",
    "title = answer[\"answer\"][0]\n",
    "author_list = answer[\"answer\"][1]\n",
    "author_string = \" \".join(author_list)\n",
    "\n",
    "title, author_string"
   ]
  },
  {
   "cell_type": "code",
   "execution_count": 61,
   "id": "40f3c264-e981-49b1-8dcd-8b9f0494f5cb",
   "metadata": {},
   "outputs": [],
   "source": [
    "import time\n",
    "\n",
    "time.sleep(2)"
   ]
  },
  {
   "cell_type": "code",
   "execution_count": 60,
   "id": "3add5708-1833-45a2-97a9-1992df156487",
   "metadata": {},
   "outputs": [
    {
     "data": {
      "text/plain": [
       "{'numFound': 0,\n",
       " 'start': 0,\n",
       " 'numFoundExact': True,\n",
       " 'docs': [],\n",
       " 'num_found': 0,\n",
       " 'q': '',\n",
       " 'offset': None}"
      ]
     },
     "execution_count": 60,
     "metadata": {},
     "output_type": "execute_result"
    }
   ],
   "source": [
    "response = search_openlibrary(author_string, title)\n",
    "# title, author_string\n",
    "response"
   ]
  },
  {
   "cell_type": "code",
   "execution_count": 20,
   "id": "a48bdd1c-22e8-40ba-ac1a-2d76b60d1607",
   "metadata": {},
   "outputs": [],
   "source": [
    "import urllib.parse"
   ]
  },
  {
   "cell_type": "code",
   "execution_count": 22,
   "id": "278d2dab-bb2f-472f-bd3d-b8416a7b4c5d",
   "metadata": {},
   "outputs": [
    {
     "data": {
      "text/plain": [
       "('https://openlibrary.org/search.json',\n",
       " 'https://openlibrary.org/search.json?title=Sailing%2Bto%2BSarantia&author=Guy+Gavriel+Kay')"
      ]
     },
     "execution_count": 22,
     "metadata": {},
     "output_type": "execute_result"
    }
   ],
   "source": [
    "from openlibrary_api import BASE_URL\n",
    "\n",
    "title = urllib.parse.quote_plus(title)\n",
    "author = urllib.parse.quote_plus(author_string)\n",
    "url = f\"{BASE_URL}?title={title}&author={author}\"\n",
    "BASE_URL, url"
   ]
  },
  {
   "cell_type": "code",
   "execution_count": 57,
   "id": "99953e3a-2add-4d90-b305-51573b90f73b",
   "metadata": {},
   "outputs": [
    {
     "data": {
      "text/plain": [
       "200"
      ]
     },
     "execution_count": 57,
     "metadata": {},
     "output_type": "execute_result"
    }
   ],
   "source": [
    "import requests\n",
    "\n",
    "url = \"https://openlibrary.org/search.json?title=Sailing%2Bto%2BSarantia&author=Guy+Gavriel+Kay\"\n",
    "\n",
    "url = \"https://openlibrary.org/search.json?author=Guy+Gavriel+Kay\"\n",
    "url = \"https://openlibrary.org/search.json?title=Sailing to Sarantia\"\n",
    "url = \"https://openlibrary.org/search.json?title=Sailing Sarantium&author=Guy+Gavriel+Kay\"\n",
    "\n",
    "response = requests.get(url, timeout=200)\n",
    "response.status_code"
   ]
  },
  {
   "cell_type": "code",
   "execution_count": 58,
   "id": "b729c953-d0f0-44e0-aa50-be4cf00223e3",
   "metadata": {},
   "outputs": [
    {
     "name": "stdout",
     "output_type": "stream",
     "text": [
      "Sailing to Sarantium (The Sarantium Mosaic)\n",
      "Sailing to Sarantium\n",
      "Sailing to Sarantium\n",
      "Sailing to Sarantium\n",
      "Sailing to Sarantium\n",
      "Sailing to Sarantium (Sarantine Mosaic, Book 1)\n",
      "Sailing to Sarantium 27 Copy D\n",
      "Sailing to Sarantium (The Sarantine Mosaic Ser., Bk. 1)\n",
      "Sarantine Mosaic #1 Sailing To Sarantium\n"
     ]
    }
   ],
   "source": [
    "for doc in response.json()[\"docs\"]:\n",
    "    print(doc[\"title\"])"
   ]
  },
  {
   "cell_type": "code",
   "execution_count": 46,
   "id": "ed44bcf4-d545-4db3-9c28-a743164158dc",
   "metadata": {},
   "outputs": [
    {
     "name": "stdout",
     "output_type": "stream",
     "text": [
      "Tigana\n",
      "The summer tree\n",
      "The lions of Al-Rassan\n",
      "A song for Arbonne\n",
      "The wandering fire\n",
      "Ysabel\n",
      "The darkest road\n",
      "The Last Light of the Sun\n",
      "Under Heaven\n",
      "Sailing to Sarantium (The Sarantium Mosaic)\n",
      "Under heaven\n",
      "Under Heaven\n",
      "Brightness Long Ago\n",
      "The Sarantine mosaic\n",
      "Tigana\n",
      "The Summer Tree (The Fionavar Tapestry, Book 1)\n",
      "River of stars\n",
      "Children of earth and sky\n",
      "River of Stars\n",
      "All the Seas of the World\n",
      "The Darkest Road (The Fionavar Tapestry, Book 3)\n",
      "The Fionavar Tapestry 1. The Summer Tree 2. The Wandering Fire 3. The Darkest Road\n",
      "Lord of Emperors (Sarantine Mosaic, Book 2)\n",
      "Tigana\n",
      "A Brightness Long Ago\n",
      "The Summer Tree (Fionavar Tapestry)\n",
      "Lord of emperors\n",
      "Song for Arbonne\n",
      "Beyond this dark house\n",
      "Sailing to Sarantium\n",
      "Tigana\n",
      "Darkest Road\n",
      "Tigana\n",
      "Summer Tree\n",
      "Sailing to Sarantium\n",
      "Ysabel\n",
      "A SONG FOR ARBONNE (by the author of the Fionavar Tapestry)\n",
      "Children of Earth and Sky\n",
      "The last light of the sun\n",
      "Sailing to Sarantium (Sarantine Mosaic, Book 1)\n",
      "Sailing to Sarantium\n",
      "The Wandering Fire\n",
      "Lord of Emperors\n",
      "Lions of Al-Rassan\n",
      "Wandering Fire\n",
      "A Song for Arbonne\n",
      "Lord of emperors\n",
      "TIGANA\n",
      "Mosaicos de sarantium\n",
      "Lord of Emperors (The Sarantine Mosaic)\n",
      "Tigana (Roc)\n",
      "Le dernier rayon du soleil\n",
      "Under heaven\n",
      "The Wandering Fire (The Fionavar Tapestry, Book 2)\n",
      "The summer tree\n",
      "The Lions of Al-Rassan\n",
      "Children of Earth and Sky\n",
      "River of Stars\n",
      "The Last Light of the Sun\n",
      "Song of Roland\n",
      "Sailing to Sarantium 27 Copy D\n",
      "The Sarantine Mosaic Ii (Untit\n",
      "Le feu vagabond\n",
      "Ysabel\n",
      "Die Herren von Fionavar\n",
      "Gök Cennetin Altinda\n",
      "Tigana\n",
      "Fionavarski Gobelin\n",
      "Lord of Emperors: Book Two of the Sarantine Mosaic\n",
      "Am Fluss der Sterne\n",
      "Sailing to Sarantium\n",
      "Silbermantel (Band 1)\n",
      "Lord of Emperors\n",
      "Im Schatten des Himmels\n",
      "Los mosaicos de Sarantium\n",
      "Lord of emperors\n",
      "Chanson pour Arbonne\n",
      "Arbre de l'été(L') #01\n",
      "The Darkest Road (Fionavar Tapestry)\n",
      "Das Komplott. 1. Roman des Sarantium- Zyklus\n",
      "Das Mosaik. 2. Roman des Sarantium- Zyklus\n",
      "Der neunte Wagenlenker. Die Reise nach Sarantium. Dritter Roman\n",
      "Die Herren von Fionavar III. Das Kind des Schattens\n",
      "El Reino De Luz Y Tinieblas\n",
      "Feu vagabond(Le) #02\n",
      "Herr aller Herrscher 04. Die Reise nach Sarantium\n",
      "La Chanson d'Arbonne\n",
      "Last Light of the Sun, The\n",
      "Le feu vagabond\n",
      "Route obscure(La) #03\n",
      "Sailing to Sarantium (The Sarantine Mosaic Ser., Bk. 1)\n",
      "Seigneur des Empereurs\n",
      "La Tapisserie de Fionavar, Tome 1 : L'Arbre de l'été\n",
      "Les lions d'Al-Rassan\n",
      "Lions of Al-Rassan\n",
      "La voie obscure\n",
      "L'arbre de l'été\n",
      "Le Feu vagabond, la tapisserie de Fionavar, tome 2\n",
      "Tigane\n",
      "THE DARKEST ROAD\n"
     ]
    }
   ],
   "source": [
    "for doc in response.json()[\"docs\"]:\n",
    "    print(doc[\"title\"])"
   ]
  }
 ],
 "metadata": {
  "kernelspec": {
   "display_name": "Python 3 (ipykernel)",
   "language": "python",
   "name": "python3"
  },
  "language_info": {
   "codemirror_mode": {
    "name": "ipython",
    "version": 3
   },
   "file_extension": ".py",
   "mimetype": "text/x-python",
   "name": "python",
   "nbconvert_exporter": "python",
   "pygments_lexer": "ipython3",
   "version": "3.10.15"
  }
 },
 "nbformat": 4,
 "nbformat_minor": 5
}
